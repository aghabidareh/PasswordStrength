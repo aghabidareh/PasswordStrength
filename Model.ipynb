{
 "cells": [
  {
   "cell_type": "code",
   "execution_count": 1,
   "id": "5cc08a31-f103-4de1-af3d-756733d9c87d",
   "metadata": {},
   "outputs": [],
   "source": [
    "import pandas\n",
    "import numpy as np"
   ]
  },
  {
   "cell_type": "code",
   "execution_count": 2,
   "id": "993f2965-08e2-4cac-9e3c-b98312e7439a",
   "metadata": {},
   "outputs": [],
   "source": [
    "df = pandas.read_csv('passwords.csv')\n",
    "df = df.dropna(subset=['password'])"
   ]
  },
  {
   "cell_type": "code",
   "execution_count": 3,
   "id": "3f8f2fd3-1391-493b-8c9d-b9cf5176f7d2",
   "metadata": {},
   "outputs": [],
   "source": [
    "from sklearn.preprocessing import LabelEncoder, OneHotEncoder\n",
    "\n",
    "label_encoder = LabelEncoder()\n",
    "df['strength'] = label_encoder.fit_transform(df['strength'])\n",
    "\n",
    "onehot_encoder = OneHotEncoder(sparse_output=False)\n",
    "strength_encoded = onehot_encoder.fit_transform(df['strength'].values.reshape(-1, 1))"
   ]
  },
  {
   "cell_type": "code",
   "execution_count": 4,
   "id": "a7e1ee26-7655-4fe4-baf1-0e1c6a110cb6",
   "metadata": {},
   "outputs": [],
   "source": [
    "max_length = 32 \n",
    "X = df['password'].apply(lambda x: [ord(c) for c in x])\n",
    "X = X.apply(lambda x: np.pad(x, (0, max_length - len(x)), 'constant') if len(x) < max_length else x[:max_length])\n",
    "X = np.array(X.tolist())"
   ]
  },
  {
   "cell_type": "code",
   "execution_count": 5,
   "id": "2691b3f8-1435-4c2a-870b-c598e9000ac4",
   "metadata": {},
   "outputs": [
    {
     "data": {
      "text/plain": [
       "0"
      ]
     },
     "execution_count": 5,
     "metadata": {},
     "output_type": "execute_result"
    }
   ],
   "source": [
    "import gc\n",
    "del df\n",
    "del onehot_encoder\n",
    "del LabelEncoder\n",
    "del OneHotEncoder\n",
    "del pandas\n",
    "\n",
    "gc.collect()"
   ]
  },
  {
   "cell_type": "code",
   "execution_count": 6,
   "id": "062aa19e-8cbf-49e6-9784-b86a4adf1eca",
   "metadata": {},
   "outputs": [],
   "source": [
    "from sklearn.model_selection import train_test_split\n",
    "X_train, X_test, y_train, y_test = train_test_split(X, strength_encoded, test_size=0.2, random_state=1441)"
   ]
  },
  {
   "cell_type": "code",
   "execution_count": 7,
   "id": "656ca78d-f9bd-4b26-8a54-a5442fce9ffa",
   "metadata": {},
   "outputs": [
    {
     "data": {
      "text/plain": [
       "0"
      ]
     },
     "execution_count": 7,
     "metadata": {},
     "output_type": "execute_result"
    }
   ],
   "source": [
    "del X\n",
    "del strength_encoded\n",
    "\n",
    "gc.collect()"
   ]
  },
  {
   "cell_type": "code",
   "execution_count": 8,
   "id": "ee57c2fc-8079-403c-a051-d3f77fd43d2f",
   "metadata": {},
   "outputs": [
    {
     "name": "stderr",
     "output_type": "stream",
     "text": [
      "2024-12-20 13:43:41.990246: I tensorflow/core/util/port.cc:153] oneDNN custom operations are on. You may see slightly different numerical results due to floating-point round-off errors from different computation orders. To turn them off, set the environment variable `TF_ENABLE_ONEDNN_OPTS=0`.\n",
      "2024-12-20 13:43:42.051881: E external/local_xla/xla/stream_executor/cuda/cuda_fft.cc:477] Unable to register cuFFT factory: Attempting to register factory for plugin cuFFT when one has already been registered\n",
      "WARNING: All log messages before absl::InitializeLog() is called are written to STDERR\n",
      "E0000 00:00:1734689622.093982  360141 cuda_dnn.cc:8310] Unable to register cuDNN factory: Attempting to register factory for plugin cuDNN when one has already been registered\n",
      "E0000 00:00:1734689622.097514  360141 cuda_blas.cc:1418] Unable to register cuBLAS factory: Attempting to register factory for plugin cuBLAS when one has already been registered\n",
      "2024-12-20 13:43:42.112356: I tensorflow/core/platform/cpu_feature_guard.cc:210] This TensorFlow binary is optimized to use available CPU instructions in performance-critical operations.\n",
      "To enable the following instructions: AVX2 AVX_VNNI FMA, in other operations, rebuild TensorFlow with the appropriate compiler flags.\n",
      "/media/aghabidareh/b8b65723-1e2e-4a2c-a0f2-1b84824ccd411/projects/a/venv/lib/python3.12/site-packages/keras/src/layers/core/dense.py:87: UserWarning: Do not pass an `input_shape`/`input_dim` argument to a layer. When using Sequential models, prefer using an `Input(shape)` object as the first layer in the model instead.\n",
      "  super().__init__(activity_regularizer=activity_regularizer, **kwargs)\n",
      "I0000 00:00:1734689625.611866  360141 gpu_device.cc:2022] Created device /job:localhost/replica:0/task:0/device:GPU:0 with 4309 MB memory:  -> device: 0, name: NVIDIA GeForce RTX 3050 6GB Laptop GPU, pci bus id: 0000:01:00.0, compute capability: 8.6\n"
     ]
    }
   ],
   "source": [
    "from keras.models import Sequential\n",
    "from keras.layers import Dense, Dropout\n",
    "from keras.optimizers import Adam\n",
    "\n",
    "model = Sequential()\n",
    "model.add(Dense(256, input_dim=max_length, activation='relu'))\n",
    "model.add(Dense(128, activation='relu'))\n",
    "model.add(Dropout(0.5))\n",
    "model.add(Dense(64, activation='relu'))\n",
    "model.add(Dropout(0.5))\n",
    "model.add(Dense(32, activation='relu'))\n",
    "model.add(Dense(5, activation='softmax'))"
   ]
  },
  {
   "cell_type": "code",
   "execution_count": 9,
   "id": "5519e395-d5e2-43ab-852f-799490f6b7ab",
   "metadata": {},
   "outputs": [],
   "source": [
    "model.compile(optimizer=Adam(), loss='categorical_crossentropy', metrics=['accuracy'])"
   ]
  },
  {
   "cell_type": "code",
   "execution_count": 50,
   "id": "5b4ace8a-8d96-486f-83cf-c30cb5ca6abb",
   "metadata": {
    "scrolled": true
   },
   "outputs": [
    {
     "name": "stdout",
     "output_type": "stream",
     "text": [
      "Epoch 1/10\n",
      "\u001b[1m44827/44827\u001b[0m \u001b[32m━━━━━━━━━━━━━━━━━━━━\u001b[0m\u001b[37m\u001b[0m \u001b[1m72s\u001b[0m 2ms/step - accuracy: 0.9401 - loss: 0.2313 - val_accuracy: 0.9410 - val_loss: 0.2217\n",
      "Epoch 2/10\n",
      "\u001b[1m44827/44827\u001b[0m \u001b[32m━━━━━━━━━━━━━━━━━━━━\u001b[0m\u001b[37m\u001b[0m \u001b[1m77s\u001b[0m 2ms/step - accuracy: 0.9401 - loss: 0.2306 - val_accuracy: 0.9415 - val_loss: 0.2274\n",
      "Epoch 3/10\n",
      "\u001b[1m44827/44827\u001b[0m \u001b[32m━━━━━━━━━━━━━━━━━━━━\u001b[0m\u001b[37m\u001b[0m \u001b[1m70s\u001b[0m 2ms/step - accuracy: 0.9404 - loss: 0.2291 - val_accuracy: 0.9419 - val_loss: 0.2185\n",
      "Epoch 4/10\n",
      "\u001b[1m44827/44827\u001b[0m \u001b[32m━━━━━━━━━━━━━━━━━━━━\u001b[0m\u001b[37m\u001b[0m \u001b[1m62s\u001b[0m 1ms/step - accuracy: 0.9402 - loss: 0.2295 - val_accuracy: 0.9423 - val_loss: 0.2269\n",
      "Epoch 5/10\n",
      "\u001b[1m44827/44827\u001b[0m \u001b[32m━━━━━━━━━━━━━━━━━━━━\u001b[0m\u001b[37m\u001b[0m \u001b[1m63s\u001b[0m 1ms/step - accuracy: 0.9405 - loss: 0.2295 - val_accuracy: 0.9431 - val_loss: 0.2205\n",
      "Epoch 6/10\n",
      "\u001b[1m44827/44827\u001b[0m \u001b[32m━━━━━━━━━━━━━━━━━━━━\u001b[0m\u001b[37m\u001b[0m \u001b[1m66s\u001b[0m 1ms/step - accuracy: 0.9403 - loss: 0.2301 - val_accuracy: 0.9425 - val_loss: 0.2199\n",
      "Epoch 7/10\n",
      "\u001b[1m44827/44827\u001b[0m \u001b[32m━━━━━━━━━━━━━━━━━━━━\u001b[0m\u001b[37m\u001b[0m \u001b[1m68s\u001b[0m 2ms/step - accuracy: 0.9403 - loss: 0.2302 - val_accuracy: 0.9431 - val_loss: 0.2194\n",
      "Epoch 8/10\n",
      "\u001b[1m44827/44827\u001b[0m \u001b[32m━━━━━━━━━━━━━━━━━━━━\u001b[0m\u001b[37m\u001b[0m \u001b[1m64s\u001b[0m 1ms/step - accuracy: 0.9401 - loss: 0.2308 - val_accuracy: 0.9426 - val_loss: 0.2295\n",
      "Epoch 9/10\n",
      "\u001b[1m44827/44827\u001b[0m \u001b[32m━━━━━━━━━━━━━━━━━━━━\u001b[0m\u001b[37m\u001b[0m \u001b[1m66s\u001b[0m 1ms/step - accuracy: 0.9406 - loss: 0.2292 - val_accuracy: 0.9422 - val_loss: 0.2197\n",
      "Epoch 10/10\n",
      "\u001b[1m44827/44827\u001b[0m \u001b[32m━━━━━━━━━━━━━━━━━━━━\u001b[0m\u001b[37m\u001b[0m \u001b[1m67s\u001b[0m 1ms/step - accuracy: 0.9407 - loss: 0.2283 - val_accuracy: 0.9427 - val_loss: 0.2202\n"
     ]
    },
    {
     "data": {
      "text/plain": [
       "<keras.src.callbacks.history.History at 0x7eb6e4ac45f0>"
      ]
     },
     "execution_count": 50,
     "metadata": {},
     "output_type": "execute_result"
    }
   ],
   "source": [
    "model.fit(X_train, y_train, epochs=10, batch_size=256, validation_data=(X_test, y_test))"
   ]
  },
  {
   "cell_type": "code",
   "execution_count": 55,
   "id": "86f6e1c0-2bda-4fa0-8911-5dff0e35d5c0",
   "metadata": {},
   "outputs": [],
   "source": [
    "def predict_password_strength(password):\n",
    "    if len(password) > max_length:\n",
    "        password = password[:max_length]\n",
    "    \n",
    "    password_encoded = np.array([ord(c) for c in password]).reshape(1, -1)\n",
    "    password_encoded = np.pad(password_encoded, ((0, 0), (0, max_length - password_encoded.shape[1])), 'constant')\n",
    "    prediction = model.predict(password_encoded)\n",
    "    predicted_class = np.argmax(prediction)\n",
    "    return label_encoder.inverse_transform([predicted_class])[0]"
   ]
  },
  {
   "cell_type": "code",
   "execution_count": 56,
   "id": "5349b98c-b207-4df9-bc05-37231e987b62",
   "metadata": {},
   "outputs": [
    {
     "name": "stdout",
     "output_type": "stream",
     "text": [
      "11\n",
      "\u001b[1m1/1\u001b[0m \u001b[32m━━━━━━━━━━━━━━━━━━━━\u001b[0m\u001b[37m\u001b[0m \u001b[1m0s\u001b[0m 26ms/step\n",
      "Password Strength: good\n"
     ]
    }
   ],
   "source": [
    "password = 'aghabidareh'\n",
    "print(len(password))\n",
    "strength = predict_password_strength(password)\n",
    "print(f\"Password Strength: {strength}\")"
   ]
  },
  {
   "cell_type": "code",
   "execution_count": 57,
   "id": "0e450845-27a4-463c-98ca-76504c2c1771",
   "metadata": {},
   "outputs": [
    {
     "name": "stderr",
     "output_type": "stream",
     "text": [
      "WARNING:absl:You are saving your model as an HDF5 file via `model.save()` or `keras.saving.save_model(model)`. This file format is considered legacy. We recommend using instead the native Keras format, e.g. `model.save('my_model.keras')` or `keras.saving.save_model(model, 'my_model.keras')`. \n"
     ]
    }
   ],
   "source": [
    "model.save('model.h5')"
   ]
  },
  {
   "cell_type": "code",
   "execution_count": 8,
   "id": "436f4826-900f-4f0e-8a9c-89f9cb8bfd3c",
   "metadata": {},
   "outputs": [],
   "source": [
    "import pickle\n",
    "with open('encoder.h5' , 'wb') as f:\n",
    "    pickle.dump(label_encoder , f)"
   ]
  }
 ],
 "metadata": {
  "kernelspec": {
   "display_name": "Python 3 (ipykernel)",
   "language": "python",
   "name": "python3"
  },
  "language_info": {
   "codemirror_mode": {
    "name": "ipython",
    "version": 3
   },
   "file_extension": ".py",
   "mimetype": "text/x-python",
   "name": "python",
   "nbconvert_exporter": "python",
   "pygments_lexer": "ipython3",
   "version": "3.12.3"
  }
 },
 "nbformat": 4,
 "nbformat_minor": 5
}
