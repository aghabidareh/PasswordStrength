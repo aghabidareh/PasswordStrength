{
 "cells": [
  {
   "cell_type": "code",
   "execution_count": 1,
   "id": "5cc08a31-f103-4de1-af3d-756733d9c87d",
   "metadata": {},
   "outputs": [
    {
     "name": "stderr",
     "output_type": "stream",
     "text": [
      "2024-12-16 18:09:29.157924: I tensorflow/core/util/port.cc:153] oneDNN custom operations are on. You may see slightly different numerical results due to floating-point round-off errors from different computation orders. To turn them off, set the environment variable `TF_ENABLE_ONEDNN_OPTS=0`.\n",
      "2024-12-16 18:09:29.168106: E external/local_xla/xla/stream_executor/cuda/cuda_fft.cc:477] Unable to register cuFFT factory: Attempting to register factory for plugin cuFFT when one has already been registered\n",
      "WARNING: All log messages before absl::InitializeLog() is called are written to STDERR\n",
      "E0000 00:00:1734359969.179801   47599 cuda_dnn.cc:8310] Unable to register cuDNN factory: Attempting to register factory for plugin cuDNN when one has already been registered\n",
      "E0000 00:00:1734359969.183383   47599 cuda_blas.cc:1418] Unable to register cuBLAS factory: Attempting to register factory for plugin cuBLAS when one has already been registered\n",
      "2024-12-16 18:09:29.195762: I tensorflow/core/platform/cpu_feature_guard.cc:210] This TensorFlow binary is optimized to use available CPU instructions in performance-critical operations.\n",
      "To enable the following instructions: AVX2 AVX_VNNI FMA, in other operations, rebuild TensorFlow with the appropriate compiler flags.\n"
     ]
    }
   ],
   "source": [
    "import pandas as pd\n",
    "from sklearn.model_selection import train_test_split\n",
    "from sklearn.preprocessing import LabelEncoder, OneHotEncoder\n",
    "from keras.models import Sequential\n",
    "from keras.layers import Dense, Dropout\n",
    "from keras.optimizers import Adam\n",
    "import numpy as np\n",
    "import gc"
   ]
  },
  {
   "cell_type": "code",
   "execution_count": 2,
   "id": "993f2965-08e2-4cac-9e3c-b98312e7439a",
   "metadata": {},
   "outputs": [],
   "source": [
    "df = pd.read_csv('passwords.csv')"
   ]
  },
  {
   "cell_type": "code",
   "execution_count": 3,
   "id": "dc66da73-bf0e-49e0-985a-14e6b6b318f9",
   "metadata": {},
   "outputs": [],
   "source": [
    "df = df.dropna(subset=['password'])"
   ]
  },
  {
   "cell_type": "code",
   "execution_count": 4,
   "id": "3f8f2fd3-1391-493b-8c9d-b9cf5176f7d2",
   "metadata": {},
   "outputs": [],
   "source": [
    "label_encoder = LabelEncoder()\n",
    "df['strength'] = label_encoder.fit_transform(df['strength'])\n",
    "\n",
    "onehot_encoder = OneHotEncoder(sparse_output=False)\n",
    "strength_encoded = onehot_encoder.fit_transform(df['strength'].values.reshape(-1, 1))"
   ]
  },
  {
   "cell_type": "code",
   "execution_count": 5,
   "id": "a7e1ee26-7655-4fe4-baf1-0e1c6a110cb6",
   "metadata": {},
   "outputs": [],
   "source": [
    "max_length = 20 \n",
    "X = df['password'].apply(lambda x: [ord(c) for c in x])\n",
    "X = X.apply(lambda x: np.pad(x, (0, max_length - len(x)), 'constant') if len(x) < max_length else x[:max_length])\n",
    "X = np.array(X.tolist())\n",
    "y = strength_encoded"
   ]
  },
  {
   "cell_type": "code",
   "execution_count": 6,
   "id": "2691b3f8-1435-4c2a-870b-c598e9000ac4",
   "metadata": {},
   "outputs": [
    {
     "data": {
      "text/plain": [
       "0"
      ]
     },
     "execution_count": 6,
     "metadata": {},
     "output_type": "execute_result"
    }
   ],
   "source": [
    "del df\n",
    "\n",
    "gc.collect()"
   ]
  },
  {
   "cell_type": "code",
   "execution_count": 7,
   "id": "062aa19e-8cbf-49e6-9784-b86a4adf1eca",
   "metadata": {},
   "outputs": [],
   "source": [
    "X_train, X_test, y_train, y_test = train_test_split(X, y, test_size=0.2, random_state=1441)"
   ]
  },
  {
   "cell_type": "code",
   "execution_count": 8,
   "id": "656ca78d-f9bd-4b26-8a54-a5442fce9ffa",
   "metadata": {},
   "outputs": [
    {
     "data": {
      "text/plain": [
       "0"
      ]
     },
     "execution_count": 8,
     "metadata": {},
     "output_type": "execute_result"
    }
   ],
   "source": [
    "del X\n",
    "del y\n",
    "\n",
    "gc.collect()"
   ]
  },
  {
   "cell_type": "code",
   "execution_count": 9,
   "id": "ee57c2fc-8079-403c-a051-d3f77fd43d2f",
   "metadata": {},
   "outputs": [
    {
     "name": "stderr",
     "output_type": "stream",
     "text": [
      "/media/aghabidareh/b8b65723-1e2e-4a2c-a0f2-1b84824ccd411/projects/a/venv/lib/python3.12/site-packages/keras/src/layers/core/dense.py:87: UserWarning: Do not pass an `input_shape`/`input_dim` argument to a layer. When using Sequential models, prefer using an `Input(shape)` object as the first layer in the model instead.\n",
      "  super().__init__(activity_regularizer=activity_regularizer, **kwargs)\n",
      "I0000 00:00:1734360103.581095   47599 gpu_device.cc:2022] Created device /job:localhost/replica:0/task:0/device:GPU:0 with 4309 MB memory:  -> device: 0, name: NVIDIA GeForce RTX 3050 6GB Laptop GPU, pci bus id: 0000:01:00.0, compute capability: 8.6\n"
     ]
    }
   ],
   "source": [
    "model = Sequential()\n",
    "model.add(Dense(128, input_dim=20, activation='relu'))\n",
    "model.add(Dense(64, input_dim=20, activation='relu'))\n",
    "model.add(Dropout(0.5))\n",
    "model.add(Dense(64, activation='relu'))\n",
    "model.add(Dense(5, activation='softmax'))"
   ]
  },
  {
   "cell_type": "code",
   "execution_count": 10,
   "id": "5519e395-d5e2-43ab-852f-799490f6b7ab",
   "metadata": {},
   "outputs": [],
   "source": [
    "model.compile(optimizer=Adam(), loss='categorical_crossentropy', metrics=['accuracy'])"
   ]
  },
  {
   "cell_type": "code",
   "execution_count": 11,
   "id": "5b4ace8a-8d96-486f-83cf-c30cb5ca6abb",
   "metadata": {},
   "outputs": [
    {
     "name": "stdout",
     "output_type": "stream",
     "text": [
      "Epoch 1/5\n"
     ]
    },
    {
     "name": "stderr",
     "output_type": "stream",
     "text": [
      "WARNING: All log messages before absl::InitializeLog() is called are written to STDERR\n",
      "I0000 00:00:1734360106.603751   47762 service.cc:148] XLA service 0x724b3001c590 initialized for platform CUDA (this does not guarantee that XLA will be used). Devices:\n",
      "I0000 00:00:1734360106.603773   47762 service.cc:156]   StreamExecutor device (0): NVIDIA GeForce RTX 3050 6GB Laptop GPU, Compute Capability 8.6\n",
      "2024-12-16 18:11:46.621622: I tensorflow/compiler/mlir/tensorflow/utils/dump_mlir_util.cc:268] disabling MLIR crash reproducer, set env var `MLIR_CRASH_REPRODUCER_DIRECTORY` to enable.\n",
      "I0000 00:00:1734360106.709907   47762 cuda_dnn.cc:529] Loaded cuDNN version 90300\n",
      "2024-12-16 18:11:46.772794: W external/local_xla/xla/service/gpu/nvptx_compiler.cc:930] The NVIDIA driver's CUDA version is 12.2 which is older than the PTX compiler version 12.5.82. Because the driver is older than the PTX compiler version, XLA is disabling parallel compilation, which may slow down compilation. You should update your NVIDIA driver or use the NVIDIA-provided CUDA forward compatibility packages.\n"
     ]
    },
    {
     "name": "stdout",
     "output_type": "stream",
     "text": [
      "\u001b[1m   128/358610\u001b[0m \u001b[37m━━━━━━━━━━━━━━━━━━━━\u001b[0m \u001b[1m7:08\u001b[0m 1ms/step - accuracy: 0.5204 - loss: 7.8853     "
     ]
    },
    {
     "name": "stderr",
     "output_type": "stream",
     "text": [
      "I0000 00:00:1734360108.013712   47762 device_compiler.h:188] Compiled cluster using XLA!  This line is logged at most once for the lifetime of the process.\n"
     ]
    },
    {
     "name": "stdout",
     "output_type": "stream",
     "text": [
      "\u001b[1m358610/358610\u001b[0m \u001b[32m━━━━━━━━━━━━━━━━━━━━\u001b[0m\u001b[37m\u001b[0m \u001b[1m438s\u001b[0m 1ms/step - accuracy: 0.9173 - loss: 0.3142 - val_accuracy: 0.9216 - val_loss: 0.3117\n",
      "Epoch 2/5\n",
      "\u001b[1m358610/358610\u001b[0m \u001b[32m━━━━━━━━━━━━━━━━━━━━\u001b[0m\u001b[37m\u001b[0m \u001b[1m443s\u001b[0m 1ms/step - accuracy: 0.9291 - loss: 0.2718 - val_accuracy: 0.9285 - val_loss: 0.2872\n",
      "Epoch 3/5\n",
      "\u001b[1m358610/358610\u001b[0m \u001b[32m━━━━━━━━━━━━━━━━━━━━\u001b[0m\u001b[37m\u001b[0m \u001b[1m435s\u001b[0m 1ms/step - accuracy: 0.9291 - loss: 0.2741 - val_accuracy: 0.9302 - val_loss: 0.2823\n",
      "Epoch 4/5\n",
      "\u001b[1m358610/358610\u001b[0m \u001b[32m━━━━━━━━━━━━━━━━━━━━\u001b[0m\u001b[37m\u001b[0m \u001b[1m453s\u001b[0m 1ms/step - accuracy: 0.9279 - loss: 0.2799 - val_accuracy: 0.9294 - val_loss: 0.2955\n",
      "Epoch 5/5\n",
      "\u001b[1m358610/358610\u001b[0m \u001b[32m━━━━━━━━━━━━━━━━━━━━\u001b[0m\u001b[37m\u001b[0m \u001b[1m447s\u001b[0m 1ms/step - accuracy: 0.9279 - loss: 0.2839 - val_accuracy: 0.8938 - val_loss: 0.3402\n"
     ]
    },
    {
     "data": {
      "text/plain": [
       "<keras.src.callbacks.history.History at 0x724cd7a3dbb0>"
      ]
     },
     "execution_count": 11,
     "metadata": {},
     "output_type": "execute_result"
    }
   ],
   "source": [
    "model.fit(X_train, y_train, epochs=5, batch_size=32, validation_data=(X_test, y_test))"
   ]
  },
  {
   "cell_type": "code",
   "execution_count": 12,
   "id": "86f6e1c0-2bda-4fa0-8911-5dff0e35d5c0",
   "metadata": {},
   "outputs": [],
   "source": [
    "def predict_password_strength(password):\n",
    "    password_encoded = np.array([ord(c) for c in password]).reshape(1, -1)\n",
    "    password_encoded = np.pad(password_encoded, ((0, 0), (0, 20 - password_encoded.shape[1])), 'constant')\n",
    "    prediction = model.predict(password_encoded)\n",
    "    predicted_class = np.argmax(prediction)\n",
    "    return label_encoder.inverse_transform([predicted_class])[0]"
   ]
  },
  {
   "cell_type": "code",
   "execution_count": 13,
   "id": "5349b98c-b207-4df9-bc05-37231e987b62",
   "metadata": {},
   "outputs": [
    {
     "name": "stdout",
     "output_type": "stream",
     "text": [
      "\u001b[1m1/1\u001b[0m \u001b[32m━━━━━━━━━━━━━━━━━━━━\u001b[0m\u001b[37m\u001b[0m \u001b[1m0s\u001b[0m 171ms/step\n",
      "Password Strength: middle\n"
     ]
    }
   ],
   "source": [
    "password = '123456789'\n",
    "strength = predict_password_strength(password)\n",
    "print(f\"Password Strength: {strength}\")"
   ]
  },
  {
   "cell_type": "code",
   "execution_count": 14,
   "id": "0e450845-27a4-463c-98ca-76504c2c1771",
   "metadata": {},
   "outputs": [
    {
     "name": "stderr",
     "output_type": "stream",
     "text": [
      "WARNING:absl:You are saving your model as an HDF5 file via `model.save()` or `keras.saving.save_model(model)`. This file format is considered legacy. We recommend using instead the native Keras format, e.g. `model.save('my_model.keras')` or `keras.saving.save_model(model, 'my_model.keras')`. \n"
     ]
    }
   ],
   "source": [
    "model.save('model.h5')"
   ]
  },
  {
   "cell_type": "code",
   "execution_count": 15,
   "id": "436f4826-900f-4f0e-8a9c-89f9cb8bfd3c",
   "metadata": {},
   "outputs": [],
   "source": [
    "import pickle\n",
    "with open('encoder.h5' , 'wb') as f:\n",
    "    pickle.dump(label_encoder , f)"
   ]
  }
 ],
 "metadata": {
  "kernelspec": {
   "display_name": "Python 3 (ipykernel)",
   "language": "python",
   "name": "python3"
  },
  "language_info": {
   "codemirror_mode": {
    "name": "ipython",
    "version": 3
   },
   "file_extension": ".py",
   "mimetype": "text/x-python",
   "name": "python",
   "nbconvert_exporter": "python",
   "pygments_lexer": "ipython3",
   "version": "3.12.3"
  }
 },
 "nbformat": 4,
 "nbformat_minor": 5
}
